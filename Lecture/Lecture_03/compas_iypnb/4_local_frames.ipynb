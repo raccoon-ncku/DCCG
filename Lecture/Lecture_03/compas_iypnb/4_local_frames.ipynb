{
 "cells": [
  {
   "cell_type": "markdown",
   "id": "0779c84d",
   "metadata": {},
   "source": [
    "# Local Frames\n",
    "\n",
    "Using local frames is essential when working with transformations in 3D space."
   ]
  },
  {
   "cell_type": "code",
   "execution_count": null,
   "id": "39518aa0",
   "metadata": {},
   "outputs": [],
   "source": [
    "import compas.geometry as cg\n",
    "import math\n",
    "from compas_notebook.viewer import Viewer\n",
    "from draw_frame import draw_frame\n",
    "\n",
    "viewer = Viewer()\n",
    "\n",
    "RADIUS = 3\n",
    "DIVISION = 36\n",
    "\n",
    "frames = []\n",
    "\n",
    "for i in range(DIVISION):\n",
    "    x = RADIUS * math.cos(2 * math.pi * i / DIVISION)\n",
    "    y = RADIUS * math.sin(2 * math.pi * i / DIVISION)\n",
    "\n",
    "    origin = [x, y, 3]\n",
    "    # Tangent vector for x-axis\n",
    "    y_axis = cg.Vector(-math.sin(2 * math.pi * i / DIVISION), math.cos(2 * math.pi * i / DIVISION), 0)\n",
    "    # Up vector for z-axis, with a sinusoidal variation\n",
    "    x_axis = cg.Vector(0, math.cos(2 * math.pi * i / DIVISION), 1)\n",
    "    z_axis = x_axis.cross(y_axis)\n",
    "\n",
    "    frame = cg.Frame(origin, x_axis, y_axis)\n",
    "    frames.append(frame)\n",
    "    draw_frame(frame, viewer)\n",
    "\n",
    "viewer.show()"
   ]
  },
  {
   "cell_type": "code",
   "execution_count": null,
   "id": "2e654bfc",
   "metadata": {},
   "outputs": [],
   "source": [
    "cross_dim = [0.038, 0.089] # 2x4 inch in meter\n",
    "viewer.scene.clear()\n",
    "\n",
    "lumbers = []\n",
    "\n",
    "for i, f in enumerate(frames):\n",
    "    lumber = cg.Box(1 * (3+math.cos(2 * math.pi * i / DIVISION))*0.3,\n",
    "                    cross_dim[0],\n",
    "                    cross_dim[1],\n",
    "                    f)\n",
    "    lumbers.append(lumber)\n",
    "    viewer.scene.add(lumber, color=(200, 100, 0))\n",
    "viewer.show()"
   ]
  },
  {
   "cell_type": "code",
   "execution_count": null,
   "id": "647ad3e8",
   "metadata": {},
   "outputs": [],
   "source": [
    "# using local frames to place objects\n",
    "\n",
    "relative_coords = cg.Point(0.2, 0.1, 0)\n",
    "\n",
    "for frame in frames:\n",
    "    # Transform the relative frame to the position of the current frame\n",
    "    transformed_point = frame.to_world_coordinates(relative_coords)\n",
    "    # Create a box in the transformed frame\n",
    "    new_frame = cg.Frame(transformed_point, frame.xaxis, frame.yaxis)\n",
    "    box = cg.Box(0.2, 0.1, 0.1, new_frame)\n",
    "    viewer.scene.add(box, color=(200, 100, 0))\n",
    "\n",
    "viewer.show()"
   ]
  },
  {
   "cell_type": "code",
   "execution_count": null,
   "id": "b17a239e",
   "metadata": {},
   "outputs": [],
   "source": [
    "for i, frame in enumerate(frames):\n",
    "    transformation = cg.Transformation.from_frame(frame)\n",
    "    inverted_frame = transformation.inverse()\n",
    "\n",
    "    lumber = lumbers[i].transformed(inverted_frame)\n",
    "    translation = cg.Translation.from_vector([0, i*0.2, 0])\n",
    "    lumber.transform(translation)\n",
    "\n",
    "    viewer.scene.add(lumber, color=(0, 200, 100))\n",
    "\n",
    "viewer.show()"
   ]
  }
 ],
 "metadata": {
  "kernelspec": {
   "display_name": "DCCG",
   "language": "python",
   "name": "python3"
  },
  "language_info": {
   "codemirror_mode": {
    "name": "ipython",
    "version": 3
   },
   "file_extension": ".py",
   "mimetype": "text/x-python",
   "name": "python",
   "nbconvert_exporter": "python",
   "pygments_lexer": "ipython3",
   "version": "3.9.10"
  }
 },
 "nbformat": 4,
 "nbformat_minor": 5
}
