{
 "cells": [
  {
   "cell_type": "markdown",
   "id": "f7a1d9d3",
   "metadata": {},
   "source": [
    "# Jupyter Notebook Basics\n",
    "\n",
    "This is a Jupyter notebook. It is based on Python code but with step by step cells that can be run individually. It supports markdown cells for explanations and code cells for Python code.\n",
    "\n",
    "The markdown cells are just like comments in regular Python scripts, but they can be formatted nicely with headings, lists, links, and more.\n",
    "\n",
    "## compas_notebook\n",
    "\n",
    "First, we import the necessary modules from the compas library and set up a viewer to visualize geometric objects."
   ]
  },
  {
   "cell_type": "code",
   "execution_count": null,
   "id": "59a0654d",
   "metadata": {},
   "outputs": [],
   "source": [
    "import compas.geometry as cg\n",
    "from compas_notebook.viewer import Viewer\n",
    "viewer = Viewer()"
   ]
  },
  {
   "cell_type": "markdown",
   "id": "8a54d56d",
   "metadata": {},
   "source": [
    "We create a point at coordinates (1, 2, 3) and add it to the viewer's scene for visualization. The result will be displayed right after this cell."
   ]
  },
  {
   "cell_type": "code",
   "execution_count": null,
   "id": "32f57d65",
   "metadata": {},
   "outputs": [],
   "source": [
    "pt = cg.Point(1, 2, 3)\n",
    "viewer.scene.add(pt)\n",
    "viewer.show()"
   ]
  }
 ],
 "metadata": {
  "kernelspec": {
   "display_name": "DCCG",
   "language": "python",
   "name": "python3"
  },
  "language_info": {
   "codemirror_mode": {
    "name": "ipython",
    "version": 3
   },
   "file_extension": ".py",
   "mimetype": "text/x-python",
   "name": "python",
   "nbconvert_exporter": "python",
   "pygments_lexer": "ipython3",
   "version": "3.9.10"
  }
 },
 "nbformat": 4,
 "nbformat_minor": 5
}
