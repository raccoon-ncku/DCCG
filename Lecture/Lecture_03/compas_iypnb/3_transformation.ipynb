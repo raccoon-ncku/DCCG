{
 "cells": [
  {
   "cell_type": "markdown",
   "id": "681ebf1d",
   "metadata": {},
   "source": [
    "# Transformation\n",
    "\n",
    "In COMPAS, a transformation is represented by the `Transformation` class, which encapsulates a 4x4 transformation matrix. Transformations can include translations, rotations, scaling, and shearing."
   ]
  },
  {
   "cell_type": "code",
   "execution_count": null,
   "id": "a680eee4",
   "metadata": {},
   "outputs": [],
   "source": [
    "import compas.geometry as cg\n",
    "from compas_notebook.viewer import Viewer\n",
    "\n",
    "viewer = Viewer()\n",
    "\n",
    "# create a transformation\n",
    "# This is the identity transformation\n",
    "T = cg.Transformation()\n",
    "\n",
    "# The transformation is a 4x4 matrix\n",
    "print(T)"
   ]
  },
  {
   "cell_type": "markdown",
   "id": "df2d8fe0",
   "metadata": {},
   "source": [
    "# Translation, Rotation, Scaling\n",
    "\n",
    "Translations, rotations, and scalings are common transformation we use in architectural geometry. COMPAS provides convenient methods to create these transformations, and they are all 4x4 matrices."
   ]
  },
  {
   "cell_type": "code",
   "execution_count": null,
   "id": "2d3ba4bb",
   "metadata": {},
   "outputs": [],
   "source": [
    "axis, angle = [0.2, 0.4, 0.1], 0.3\n",
    "R = cg.Rotation.from_axis_and_angle(axis, angle)\n",
    "print(\"Rotation:\\n\", R)\n"
   ]
  },
  {
   "cell_type": "code",
   "execution_count": null,
   "id": "cb8fd917",
   "metadata": {},
   "outputs": [],
   "source": [
    "translation_vector = [5, 3, 1]\n",
    "T = cg.Translation.from_vector(translation_vector)\n",
    "print(\"Translation:\\n\", T)"
   ]
  },
  {
   "cell_type": "code",
   "execution_count": null,
   "id": "ee724d68",
   "metadata": {},
   "outputs": [],
   "source": [
    "scale_factors = [0.1, 2, 3]\n",
    "S = cg.Scale.from_factors(scale_factors)\n",
    "print(\"Scale:\\n\", S)"
   ]
  },
  {
   "cell_type": "markdown",
   "id": "4e59d966",
   "metadata": {},
   "source": [
    "Since they are all 4x4 matrices, they can be combined together through matrix multiplication to form more complex transformations."
   ]
  },
  {
   "cell_type": "code",
   "execution_count": null,
   "id": "5317d3d6",
   "metadata": {},
   "outputs": [],
   "source": [
    "transformation = T * R * S\n",
    "print(\"Combined Transformation:\\n\", transformation)"
   ]
  },
  {
   "cell_type": "code",
   "execution_count": null,
   "id": "c68e0557",
   "metadata": {},
   "outputs": [],
   "source": [
    "viewer.scene.clear()\n",
    "\n",
    "box_0 = cg.Box(2,2,2, cg.Frame.worldXY())\n",
    "viewer.scene.add(box_0, color=(200,200,200))\n",
    "\n",
    "box_1 = box_0.transformed(R*T*S)\n",
    "viewer.scene.add(box_1, color=(0,255,120))\n",
    "\n",
    "viewer.show()"
   ]
  }
 ],
 "metadata": {
  "kernelspec": {
   "display_name": "DCCG",
   "language": "python",
   "name": "python3"
  },
  "language_info": {
   "codemirror_mode": {
    "name": "ipython",
    "version": 3
   },
   "file_extension": ".py",
   "mimetype": "text/x-python",
   "name": "python",
   "nbconvert_exporter": "python",
   "pygments_lexer": "ipython3",
   "version": "3.9.10"
  }
 },
 "nbformat": 4,
 "nbformat_minor": 5
}
