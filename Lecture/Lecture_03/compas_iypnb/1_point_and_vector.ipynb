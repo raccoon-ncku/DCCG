{
 "cells": [
  {
   "cell_type": "code",
   "execution_count": null,
   "id": "59a0654d",
   "metadata": {},
   "outputs": [],
   "source": [
    "import compas.geometry as cg\n",
    "from compas_notebook.viewer import Viewer\n",
    "viewer = Viewer()\n",
    "\n",
    "pt = cg.Point(1, 2, 3)\n",
    "viewer.scene.add(pt)\n",
    "viewer.show()"
   ]
  }
 ],
 "metadata": {
  "kernelspec": {
   "display_name": "DCCG",
   "language": "python",
   "name": "python3"
  },
  "language_info": {
   "codemirror_mode": {
    "name": "ipython",
    "version": 3
   },
   "file_extension": ".py",
   "mimetype": "text/x-python",
   "name": "python",
   "nbconvert_exporter": "python",
   "pygments_lexer": "ipython3",
   "version": "3.9.10"
  }
 },
 "nbformat": 4,
 "nbformat_minor": 5
}
