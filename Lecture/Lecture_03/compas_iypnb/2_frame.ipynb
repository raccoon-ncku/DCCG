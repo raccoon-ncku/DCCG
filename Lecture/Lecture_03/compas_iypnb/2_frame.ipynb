{
 "cells": [
  {
   "cell_type": "markdown",
   "id": "1c3faccc",
   "metadata": {},
   "source": [
    "# Frames\n",
    "\n",
    "Frames are coordinate systems that define positions and orientations in 3D space. They consist of an origin point and three orthogonal axes (X, Y, Z) that establish the frame's orientation.\n",
    "\n",
    "They are essential in computer graphics, robotics, and CAD for transforming and manipulating objects in space."
   ]
  },
  {
   "cell_type": "code",
   "execution_count": null,
   "id": "f12383c3",
   "metadata": {},
   "outputs": [],
   "source": [
    "import compas.geometry as cg\n",
    "from compas_notebook.viewer import Viewer\n",
    "from draw_frame import draw_frame # since frame visulalization is not implemented in compas_notebook yet\n",
    "viewer = Viewer()"
   ]
  },
  {
   "cell_type": "markdown",
   "id": "c189600d",
   "metadata": {},
   "source": [
    "To compose a frame, we typically need:\n",
    "- An origin point\n",
    "- An x-axis vector (direction)\n",
    "- A y-axis vector (direction)\n",
    "\n",
    "The z-axis is automatically determined by the cross product of the x and y axes."
   ]
  },
  {
   "cell_type": "code",
   "execution_count": null,
   "id": "daef1596",
   "metadata": {},
   "outputs": [],
   "source": [
    "f = cg.Frame(cg.Point(1, 2, 3), cg.Vector(1, 2, 0), cg.Vector(0, 1, 0))\n",
    "draw_frame(f, viewer)\n",
    "viewer.show()"
   ]
  },
  {
   "cell_type": "markdown",
   "id": "6d06734b",
   "metadata": {},
   "source": [
    "You don't always have origin points, x_axis, y_axis to create a frame. Thus, there are other ways to create frames. One of them is to use the function cg.Frame.from_points.\n"
   ]
  },
  {
   "cell_type": "code",
   "execution_count": null,
   "id": "37f47c79",
   "metadata": {},
   "outputs": [],
   "source": [
    "viewer.scene.clear()\n",
    "\n",
    "point_1 = cg.Point(0, 3, 1) # origin\n",
    "point_2 = cg.Point(1, 2, 0) # point on x-axis\n",
    "point_3 = cg.Point(0, 1, 0) # point on y-axis, note that it is not necessarily orthogonal to x-axis\n",
    "f = cg.Frame.from_points(point_1, point_2, point_3)\n",
    "draw_frame(f, viewer)\n",
    "\n",
    "viewer.scene.add(point_1)\n",
    "viewer.scene.add(point_2)\n",
    "viewer.scene.add(point_3)\n",
    "viewer.show()"
   ]
  },
  {
   "cell_type": "code",
   "execution_count": null,
   "id": "3200991e",
   "metadata": {},
   "outputs": [],
   "source": [
    "viewer.scene.clear()\n",
    "\n",
    "fw = cg.Frame.worldYZ() # Sometimes you just need to replicate standard frames\n",
    "draw_frame(fw, viewer)\n",
    "viewer.show()"
   ]
  },
  {
   "cell_type": "markdown",
   "id": "6550f0f5",
   "metadata": {},
   "source": [
    "## Frame is the basis of geometry\n",
    "\n",
    "When working with geometry, frames are often used as local coordinate systems for defining and manipulating geometric entities.\n"
   ]
  },
  {
   "cell_type": "code",
   "execution_count": null,
   "id": "48812758",
   "metadata": {},
   "outputs": [],
   "source": [
    "viewer.scene.clear()\n",
    "\n",
    "f = cg.Frame(cg.Point(1, 2, 3), cg.Vector(1, 2, 0), cg.Vector(0, 1, 0))\n",
    "draw_frame(f, viewer)\n",
    "viewer.show()"
   ]
  },
  {
   "cell_type": "markdown",
   "id": "078fcffd",
   "metadata": {},
   "source": [
    "Think of frame before we create geometry. For instance, to create a 2x4 beam, we need to define a frame first.\n",
    "Establish a convention, such as the origin at the center of the beam's cross-section, the x-axis along the length of the beam, the y-axis along the width, and the z-axis along the height (structural axis).\n"
   ]
  },
  {
   "cell_type": "code",
   "execution_count": null,
   "id": "596b5513",
   "metadata": {},
   "outputs": [],
   "source": [
    "viewer.scene.clear()\n",
    "\n",
    "cross_dim = [0.038, 0.089] # 2x4 inch in meter\n",
    "\n",
    "f = cg.Frame(cg.Point(0, 0, 4), cg.Vector(1, 3, 0), cg.Vector(0, 1, 0))\n",
    "draw_frame(f, viewer)\n",
    "lumber = cg.Box(2.4, cross_dim[0], cross_dim[1], f)\n",
    "viewer.scene.add(lumber, color=(200, 200, 200))\n",
    "viewer.show()"
   ]
  },
  {
   "cell_type": "markdown",
   "id": "816c14ad",
   "metadata": {},
   "source": [
    "With frame in mind, we could create geometry in the local coordinate system defined by the frame."
   ]
  },
  {
   "cell_type": "code",
   "execution_count": null,
   "id": "3a149294",
   "metadata": {},
   "outputs": [],
   "source": [
    "viewer.scene.clear()\n",
    "\n",
    "frames = [\n",
    "    cg.Frame(cg.Point(0, 0, 0), cg.Vector(1, 1, 0), cg.Vector(0, 1, 0)),\n",
    "    cg.Frame(cg.Point(1, 1, 0), cg.Vector(0, -1, 1), cg.Vector(-1, 0, 0)),\n",
    "    cg.Frame(cg.Point(2, 0, 1), cg.Vector(-1, 0, 0), cg.Vector(0, -1, 0)),\n",
    "]\n",
    "\n",
    "for f in frames:\n",
    "    draw_frame(f, viewer)\n",
    "    lumber = cg.Box(3, cross_dim[0], cross_dim[1], f)\n",
    "    viewer.scene.add(lumber, color=(200, 200, 200))\n",
    "\n",
    "viewer.show()"
   ]
  }
 ],
 "metadata": {
  "kernelspec": {
   "display_name": "DCCG",
   "language": "python",
   "name": "python3"
  },
  "language_info": {
   "codemirror_mode": {
    "name": "ipython",
    "version": 3
   },
   "file_extension": ".py",
   "mimetype": "text/x-python",
   "name": "python",
   "nbconvert_exporter": "python",
   "pygments_lexer": "ipython3",
   "version": "3.9.10"
  }
 },
 "nbformat": 4,
 "nbformat_minor": 5
}
