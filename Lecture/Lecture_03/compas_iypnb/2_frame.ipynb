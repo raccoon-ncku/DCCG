{
 "cells": [
  {
   "cell_type": "markdown",
   "id": "1c3faccc",
   "metadata": {},
   "source": [
    "# Frames\n",
    "\n",
    "Frames are coordinate systems that define positions and orientations in 3D space. They consist of an origin point and three orthogonal axes (X, Y, Z) that establish the frame's orientation.\n",
    "\n",
    "They are essential in computer graphics, robotics, and CAD for transforming and manipulating objects in space."
   ]
  },
  {
   "cell_type": "code",
   "execution_count": null,
   "id": "f12383c3",
   "metadata": {},
   "outputs": [],
   "source": [
    "import compas.geometry as cg\n",
    "from compas_notebook.viewer import Viewer\n",
    "from draw_frame import draw_frame # since frame visulalization is not implemented in compas_notebook yet\n",
    "viewer = Viewer()"
   ]
  },
  {
   "cell_type": "markdown",
   "id": "c189600d",
   "metadata": {},
   "source": [
    "To compose a frame, we typically need:\n",
    "- An origin point\n",
    "- An x-axis vector (direction)\n",
    "- A y-axis vector (direction)\n",
    "\n",
    "The z-axis is automatically determined by the cross product of the x and y axes."
   ]
  },
  {
   "cell_type": "code",
   "execution_count": null,
   "id": "daef1596",
   "metadata": {},
   "outputs": [],
   "source": [
    "f = cg.Frame(cg.Point(1, 2, 3), cg.Vector(1, 2, 0), cg.Vector(0, 1, 0))\n",
    "draw_frame(f, viewer)\n",
    "viewer.show()"
   ]
  }
 ],
 "metadata": {
  "kernelspec": {
   "display_name": "DCCG",
   "language": "python",
   "name": "python3"
  },
  "language_info": {
   "codemirror_mode": {
    "name": "ipython",
    "version": 3
   },
   "file_extension": ".py",
   "mimetype": "text/x-python",
   "name": "python",
   "nbconvert_exporter": "python",
   "pygments_lexer": "ipython3",
   "version": "3.9.10"
  }
 },
 "nbformat": 4,
 "nbformat_minor": 5
}
