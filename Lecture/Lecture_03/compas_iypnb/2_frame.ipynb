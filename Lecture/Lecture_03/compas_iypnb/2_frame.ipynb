{
 "cells": [
  {
   "cell_type": "markdown",
   "id": "1c3faccc",
   "metadata": {},
   "source": [
    "# Frames\n",
    "\n",
    "Frames are coordinate systems that define positions and orientations in 3D space. They consist of an origin point and three orthogonal axes (X, Y, Z) that establish the frame's orientation.\n",
    "\n",
    "They are essential in computer graphics, robotics, and CAD for transforming and manipulating objects in space."
   ]
  },
  {
   "cell_type": "code",
   "execution_count": null,
   "id": "f12383c3",
   "metadata": {},
   "outputs": [],
   "source": [
    "import compas.geometry as cg\n",
    "from compas_notebook.viewer import Viewer\n",
    "\n",
    "def draw_frame(frame, viewer, axis_length=1.0, polygon_size=0.3):\n",
    "    # assumes compas.geometry as cg and viewer exist in the notebook\n",
    "    # normalize and safe helpers\n",
    "    def _point_translate(p, v, s=1.0):\n",
    "        return cg.Point(p.x + v.x * s, p.y + v.y * s, p.z + v.z * s)\n",
    "\n",
    "    # build a compas Frame if a Line was provided\n",
    "    if isinstance(frame, cg.Frame):\n",
    "        fr = frame\n",
    "    elif isinstance(frame, cg.Line):\n",
    "        v = cg.Vector.from_start_end(frame.start, frame.end)\n",
    "        xaxis = v.unitized()\n",
    "        z = cg.Vector(0, 0, 1)\n",
    "        yaxis = z.cross(xaxis)\n",
    "        if yaxis.length < 1e-9:\n",
    "            yaxis = cg.Vector(0, 1, 0)\n",
    "        else:\n",
    "            yaxis = yaxis.unitized()\n",
    "        fr = cg.Frame(frame.end, xaxis, yaxis)\n",
    "    else:\n",
    "        raise TypeError(\"frame must be a compas.geometry.Frame or compas.geometry.Line\")\n",
    "\n",
    "    origin = fr.point\n",
    "\n",
    "    # X axis (red)\n",
    "    x_end = _point_translate(origin, fr.xaxis, axis_length)\n",
    "    x_line = cg.Line(origin, x_end)\n",
    "    viewer.scene.add(x_line, color=(255, 0, 0))\n",
    "\n",
    "    # Y axis (green)\n",
    "    y_end = _point_translate(origin, fr.yaxis, axis_length)\n",
    "    y_line = cg.Line(origin, y_end)\n",
    "    viewer.scene.add(y_line, color=(0, 255, 0))\n",
    "\n",
    "    # simple square polygon in the frame plane (centered at origin)\n",
    "    s = polygon_size\n",
    "    p1 = _point_translate(origin, fr.xaxis + fr.yaxis, s)\n",
    "    p2 = _point_translate(origin, -fr.xaxis + fr.yaxis, s)\n",
    "    p3 = _point_translate(origin, -fr.xaxis - fr.yaxis, s)\n",
    "    p4 = _point_translate(origin, fr.xaxis - fr.yaxis, s)\n",
    "    poly = cg.Polygon([p1, p2, p3, p4])\n",
    "    viewer.scene.add(poly, color=(200, 200, 200))\n"
   ]
  },
  {
   "cell_type": "code",
   "execution_count": 8,
   "id": "daef1596",
   "metadata": {},
   "outputs": [
    {
     "data": {
      "application/vnd.jupyter.widget-view+json": {
       "model_id": "a773ec7931144edcacc73e259848a7be",
       "version_major": 2,
       "version_minor": 0
      },
      "text/plain": [
       "VBox(children=(HBox(children=(Button(icon='search-plus', layout=Layout(height='32px', width='48px'), style=But…"
      ]
     },
     "metadata": {},
     "output_type": "display_data"
    }
   ],
   "source": [
    "import compas.geometry as cg\n",
    "from compas_notebook.viewer import Viewer\n",
    "\n",
    "\n",
    "viewer = Viewer()\n",
    "f = cg.Frame(cg.Point(1, 2, 3), cg.Vector(1, 2, 0), cg.Vector(0, 1, 0))\n",
    "draw_frame(f, viewer)\n",
    "viewer.show()"
   ]
  },
  {
   "cell_type": "code",
   "execution_count": null,
   "id": "e49c0048",
   "metadata": {},
   "outputs": [],
   "source": []
  }
 ],
 "metadata": {
  "kernelspec": {
   "display_name": "DCCG",
   "language": "python",
   "name": "python3"
  },
  "language_info": {
   "codemirror_mode": {
    "name": "ipython",
    "version": 3
   },
   "file_extension": ".py",
   "mimetype": "text/x-python",
   "name": "python",
   "nbconvert_exporter": "python",
   "pygments_lexer": "ipython3",
   "version": "3.9.10"
  }
 },
 "nbformat": 4,
 "nbformat_minor": 5
}
